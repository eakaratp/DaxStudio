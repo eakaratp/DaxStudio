{
  "cells": [
    {
      "cell_type": "markdown",
      "metadata": {
        "id": "view-in-github",
        "colab_type": "text"
      },
      "source": [
        "<a href=\"https://colab.research.google.com/github/eakaratp/DaxStudio/blob/master/Backup_EX01_MLPerceptron.ipynb\" target=\"_parent\"><img src=\"https://colab.research.google.com/assets/colab-badge.svg\" alt=\"Open In Colab\"/></a>"
      ]
    },
    {
      "cell_type": "markdown",
      "source": [
        "# **[☠] Here's my snapshort on tuning this wine model**"
      ],
      "metadata": {
        "id": "Q1hWnVaH1zdd"
      }
    },
    {
      "cell_type": "code",
      "source": [
        "print('Hello World  |'  \"Hiii Dude  ^^   |\", \"It's me!! Eak  Pimthai\") "
      ],
      "metadata": {
        "colab": {
          "base_uri": "https://localhost:8080/"
        },
        "id": "xxTuSzNoLZ5r",
        "outputId": "f1b8dcdf-a436-4602-e600-8413e2170aef"
      },
      "execution_count": null,
      "outputs": [
        {
          "output_type": "stream",
          "name": "stdout",
          "text": [
            "Hello World  |Hiii Dude  ^^   | It's me!! Eak  Pimthai\n"
          ]
        }
      ]
    },
    {
      "cell_type": "markdown",
      "source": [
        "---\n",
        "**Noted**  \n",
        "* `Dependencies: Coding Package from Pandas , Numpy , Seaborn , Matplot, Scikit-learn, Keras, ...`\n",
        "* `Runtime dependencies:  Scikit-learn requires Python>=3.7, Numpy >=1.14.6`\n",
        "* `Describe any prerequisites, libraries, OS version, etc., = Python Lastest version, Needed before installing program`\n",
        "* `How/where to download your program`: \n",
        "* `Any modifications needed to be made to files/folders`:\n",
        "* `Data Source :  Loading [UCI wine dataset from Team's GitHubs](https://bit.ly/3GaUUt0WINE)`\n",
        "---"
      ],
      "metadata": {
        "id": "eqTBtGLqOAQT"
      }
    },
    {
      "cell_type": "markdown",
      "metadata": {
        "id": "LLeV_UqpGPKX"
      },
      "source": [
        "**[☠] PLAN/TASK -- |Eak|**\n",
        "\n",
        "**1.) Data Cleansing**  \n",
        "      > Analyzing and identifying the data characteristics that might have an impact on the model.\n",
        "*    Fix quality issues -- i.e. Imbalance / Noisy Data /\n",
        "\n",
        "**2.) Data Preprocessing**  \n",
        "     > Optimize data organization to train or run data models by selecting/combining relevant variables ,... etc.\n",
        "* Change the dimensions to fit the model (Input=13, Output=4)  \n",
        "* Setting up dimension variables for input_shape argument in the 1st layer.\n",
        "* Converted data type to float32 after select the train-test split method.\n",
        "* Scale the data with the Normalize method.\n",
        "\n",
        "**3.) Hyper Parameter Tuning**  \n",
        "      > Virtually any type of data analytics, data science or AI development requires some type of data preprocessing to provide reliable, precise and robust results for enterprise applications. \n",
        "* Model layer \n",
        "* Type of activation function.  \n",
        "* Learning rate and Loss function.\n",
        "* Batch Size and Choosing Epoch."
      ]
    },
    {
      "cell_type": "markdown",
      "metadata": {
        "id": "9sBcU0duGPKk"
      },
      "source": [
        "## **Importing the Environment** \n",
        "Dependencie code in Python is imported. These lines load modules from four libraries;\n",
        "* `numpy` - The library for numerical computing in Python\n",
        "* `pandas` - A library for organizing and manipulating data\n",
        "* `matplotlib` - A library for plotting\n",
        "* `sklearn` - Short for scikit-learn, a machine learning toolkit in Python\n",
        "* `Bunch object` - Container object exposing keys as attributes."
      ]
    },
    {
      "cell_type": "code",
      "source": [
        "pip3-U pipenv"
      ],
      "metadata": {
        "colab": {
          "base_uri": "https://localhost:8080/",
          "height": 130
        },
        "id": "s4I-8uCVQICb",
        "outputId": "aaa32468-7a89-4b26-d3c9-9881684e9085"
      },
      "execution_count": null,
      "outputs": [
        {
          "output_type": "error",
          "ename": "SyntaxError",
          "evalue": "ignored",
          "traceback": [
            "\u001b[0;36m  File \u001b[0;32m\"<ipython-input-30-d3ce855c3b10>\"\u001b[0;36m, line \u001b[0;32m1\u001b[0m\n\u001b[0;31m    pip3-U pipenv\u001b[0m\n\u001b[0m                ^\u001b[0m\n\u001b[0;31mSyntaxError\u001b[0m\u001b[0;31m:\u001b[0m invalid syntax\n"
          ]
        }
      ]
    },
    {
      "cell_type": "code",
      "execution_count": null,
      "metadata": {
        "id": "ML_G3n8jrpgb",
        "colab": {
          "base_uri": "https://localhost:8080/",
          "height": 130
        },
        "outputId": "0f772eaa-f5f9-4e2f-e404-61f765eb365d"
      },
      "outputs": [
        {
          "output_type": "error",
          "ename": "SyntaxError",
          "evalue": "ignored",
          "traceback": [
            "\u001b[0;36m  File \u001b[0;32m\"<ipython-input-29-6a7cbf829c99>\"\u001b[0;36m, line \u001b[0;32m2\u001b[0m\n\u001b[0;31m    pip3-U pipenv\u001b[0m\n\u001b[0m                ^\u001b[0m\n\u001b[0;31mSyntaxError\u001b[0m\u001b[0;31m:\u001b[0m invalid syntax\n"
          ]
        }
      ],
      "source": [
        "!pip install pyforest"
      ]
    },
    {
      "cell_type": "code",
      "execution_count": null,
      "metadata": {
        "id": "ax_0B77mGPKo"
      },
      "outputs": [],
      "source": [
        "import numpy as np\n",
        "import pandas as pd\n",
        "import matplotlib.pyplot as plt\n",
        "from platform import python_version\n",
        "from sklearn import datasets\n",
        "from sklearn.cluster import KMeans"
      ]
    },
    {
      "cell_type": "code",
      "source": [
        "from sklearn import preprocessing\n",
        "from scipy.spatial.distance import cdist\n",
        "from pandas.plotting import scatter_matrix as sm\n",
        "from matplotlib.patches import Ellipse \n",
        "from platform import python_version\n",
        "import seaborn as sns\n",
        "import matplotlib.pyplot as plt\n",
        "import matplotlib.cm as cm"
      ],
      "metadata": {
        "id": "nZGnbcGCH_fD"
      },
      "execution_count": null,
      "outputs": []
    },
    {
      "cell_type": "code",
      "source": [
        "markdown 3.3.6 "
      ],
      "metadata": {
        "colab": {
          "base_uri": "https://localhost:8080/"
        },
        "id": "QZECE9YJOkfQ",
        "outputId": "71a69316-3f2f-47c2-cbab-2ffdfeabdcf7"
      },
      "execution_count": null,
      "outputs": [
        {
          "output_type": "stream",
          "name": "stdout",
          "text": [
            "Collecting watermark\n",
            "  Downloading watermark-2.3.0-py2.py3-none-any.whl (7.2 kB)\n",
            "Collecting importlib-metadata<3.0\n",
            "  Downloading importlib_metadata-2.1.3-py2.py3-none-any.whl (10 kB)\n",
            "Requirement already satisfied: ipython in /usr/local/lib/python3.7/dist-packages (from watermark) (5.5.0)\n",
            "Requirement already satisfied: zipp>=0.5 in /usr/local/lib/python3.7/dist-packages (from importlib-metadata<3.0->watermark) (3.7.0)\n",
            "Requirement already satisfied: setuptools>=18.5 in /usr/local/lib/python3.7/dist-packages (from ipython->watermark) (57.4.0)\n",
            "Requirement already satisfied: prompt-toolkit<2.0.0,>=1.0.4 in /usr/local/lib/python3.7/dist-packages (from ipython->watermark) (1.0.18)\n",
            "Requirement already satisfied: pexpect in /usr/local/lib/python3.7/dist-packages (from ipython->watermark) (4.8.0)\n",
            "Requirement already satisfied: decorator in /usr/local/lib/python3.7/dist-packages (from ipython->watermark) (4.4.2)\n",
            "Requirement already satisfied: pickleshare in /usr/local/lib/python3.7/dist-packages (from ipython->watermark) (0.7.5)\n",
            "Requirement already satisfied: pygments in /usr/local/lib/python3.7/dist-packages (from ipython->watermark) (2.6.1)\n",
            "Requirement already satisfied: traitlets>=4.2 in /usr/local/lib/python3.7/dist-packages (from ipython->watermark) (5.1.1)\n",
            "Requirement already satisfied: simplegeneric>0.8 in /usr/local/lib/python3.7/dist-packages (from ipython->watermark) (0.8.1)\n",
            "Requirement already satisfied: wcwidth in /usr/local/lib/python3.7/dist-packages (from prompt-toolkit<2.0.0,>=1.0.4->ipython->watermark) (0.2.5)\n",
            "Requirement already satisfied: six>=1.9.0 in /usr/local/lib/python3.7/dist-packages (from prompt-toolkit<2.0.0,>=1.0.4->ipython->watermark) (1.15.0)\n",
            "Requirement already satisfied: ptyprocess>=0.5 in /usr/local/lib/python3.7/dist-packages (from pexpect->ipython->watermark) (0.7.0)\n",
            "Installing collected packages: importlib-metadata, watermark\n",
            "  Attempting uninstall: importlib-metadata\n",
            "    Found existing installation: importlib-metadata 4.10.1\n",
            "    Uninstalling importlib-metadata-4.10.1:\n",
            "      Successfully uninstalled importlib-metadata-4.10.1\n",
            "\u001b[31mERROR: pip's dependency resolver does not currently take into account all the packages that are installed. This behaviour is the source of the following dependency conflicts.\n",
            "markdown 3.3.6 requires importlib-metadata>=4.4; python_version < \"3.10\", but you have importlib-metadata 2.1.3 which is incompatible.\u001b[0m\n",
            "Successfully installed importlib-metadata-2.1.3 watermark-2.3.0\n"
          ]
        }
      ]
    },
    {
      "cell_type": "code",
      "execution_count": null,
      "metadata": {
        "id": "7IUzwZHCGPK_",
        "colab": {
          "base_uri": "https://localhost:8080/"
        },
        "outputId": "795539a5-9145-4fd5-8126-a924a2e6b536"
      },
      "outputs": [
        {
          "output_type": "stream",
          "name": "stdout",
          "text": [
            "<class 'pandas.core.frame.DataFrame'>\n",
            "RangeIndex: 178 entries, 0 to 177\n",
            "Data columns (total 14 columns):\n",
            " #   Column                         Non-Null Count  Dtype  \n",
            "---  ------                         --------------  -----  \n",
            " 0   Y                              178 non-null    int64  \n",
            " 1   Alcohol                        178 non-null    float64\n",
            " 2   Malic acid                     178 non-null    float64\n",
            " 3   Ash                            178 non-null    float64\n",
            " 4   Alcalinity of ash              178 non-null    float64\n",
            " 5   Magnesium                      178 non-null    int64  \n",
            " 6   Total phenols                  178 non-null    float64\n",
            " 7   Flavanoids                     178 non-null    float64\n",
            " 8   Nonflavanoid phenols           178 non-null    float64\n",
            " 9   Proanthocyanins                178 non-null    float64\n",
            " 10  Color intensity                178 non-null    float64\n",
            " 11  Hue                            178 non-null    float64\n",
            " 12  OD280/OD315 of diluted wines\t  178 non-null    float64\n",
            " 13  Proline                        178 non-null    int64  \n",
            "dtypes: float64(11), int64(3)\n",
            "memory usage: 19.6 KB\n"
          ]
        }
      ],
      "source": [
        "winedata = 'https://raw.githubusercontent.com/khwanck/DeepLearning_NIDA01/main/winedata.csv'\n",
        "winedata = pd.read_csv('https://raw.githubusercontent.com/khwanck/DeepLearning_NIDA01/main/winedata.csv')\n",
        "\n",
        "winedata.info()\n",
        "#winedata.dtypes"
      ]
    },
    {
      "cell_type": "markdown",
      "source": [
        "I use \"descriptions\" to shorten the variable names, so I keep the original in \"Label\" and the shorten in \"DESCR\". \n",
        "\n",
        "---\n",
        "`List`\n",
        "\n",
        "\n",
        "You can see the result in the line below."
      ],
      "metadata": {
        "id": "YVT-tav8sMzH"
      }
    },
    {
      "cell_type": "code",
      "source": [
        "print(winedata)"
      ],
      "metadata": {
        "colab": {
          "base_uri": "https://localhost:8080/"
        },
        "id": "SDOVO3_U3rV_",
        "outputId": "6ee7fe6d-2b17-457f-ef85-e0c6c64effec"
      },
      "execution_count": null,
      "outputs": [
        {
          "output_type": "stream",
          "name": "stdout",
          "text": [
            "     Y  Alcohol  Malic acid  ...   Hue  OD280/OD315 of diluted wines\\t  Proline\n",
            "0    1    14.23        1.71  ...  1.04                            3.92     1065\n",
            "1    1    13.20        1.78  ...  1.05                            3.40     1050\n",
            "2    1    13.16        2.36  ...  1.03                            3.17     1185\n",
            "3    1    14.37        1.95  ...  0.86                            3.45     1480\n",
            "4    1    13.24        2.59  ...  1.04                            2.93      735\n",
            "..  ..      ...         ...  ...   ...                             ...      ...\n",
            "173  3    13.71        5.65  ...  0.64                            1.74      740\n",
            "174  3    13.40        3.91  ...  0.70                            1.56      750\n",
            "175  3    13.27        4.28  ...  0.59                            1.56      835\n",
            "176  3    13.17        2.59  ...  0.60                            1.62      840\n",
            "177  3    14.13        4.10  ...  0.61                            1.60      560\n",
            "\n",
            "[178 rows x 14 columns]\n"
          ]
        }
      ]
    },
    {
      "cell_type": "code",
      "source": [
        "winedata = pd.read_csv('winedata.data',\n",
        "                       names = ['Label', \n",
        "                                'Alcohol', \n",
        "                                'Malic acid', \n",
        "                                'Ash', \n",
        "                                'Alcalinity of ash', \n",
        "                                'Magnesium', \n",
        "                                'Total phenols',\n",
        "                                'Flavanoids', \n",
        "                                'Nonflavanoid phenols', \n",
        "                                'Proanthocyanins',\n",
        "                                'Color intensity',\n",
        "                                'Hue', \n",
        "                                'OD280',\n",
        "                                'Proline'])\n",
        "\n",
        "# True labels\n",
        "label = winedata['Label']\n",
        "del winedata['Label']\n",
        "# Data description\n",
        "print(\"Types of variables:\\n\",winedata.dtypes)\n",
        "\n",
        "winedata.describe()\n"
      ],
      "metadata": {
        "colab": {
          "base_uri": "https://localhost:8080/",
          "height": 449
        },
        "id": "0V0emmMGsKRk",
        "outputId": "714c5b12-e559-47f5-8af8-bde9be5aed7c"
      },
      "execution_count": null,
      "outputs": [
        {
          "output_type": "error",
          "ename": "FileNotFoundError",
          "evalue": "ignored",
          "traceback": [
            "\u001b[0;31m---------------------------------------------------------------------------\u001b[0m",
            "\u001b[0;31mFileNotFoundError\u001b[0m                         Traceback (most recent call last)",
            "\u001b[0;32m<ipython-input-18-594cf51d897c>\u001b[0m in \u001b[0;36m<module>\u001b[0;34m()\u001b[0m\n\u001b[1;32m     13\u001b[0m                                 \u001b[0;34m'Hue'\u001b[0m\u001b[0;34m,\u001b[0m\u001b[0;34m\u001b[0m\u001b[0;34m\u001b[0m\u001b[0m\n\u001b[1;32m     14\u001b[0m                                 \u001b[0;34m'OD280'\u001b[0m\u001b[0;34m,\u001b[0m\u001b[0;34m\u001b[0m\u001b[0;34m\u001b[0m\u001b[0m\n\u001b[0;32m---> 15\u001b[0;31m                                 'Proline'])\n\u001b[0m\u001b[1;32m     16\u001b[0m \u001b[0;34m\u001b[0m\u001b[0m\n\u001b[1;32m     17\u001b[0m \u001b[0;31m# True labels\u001b[0m\u001b[0;34m\u001b[0m\u001b[0;34m\u001b[0m\u001b[0;34m\u001b[0m\u001b[0m\n",
            "\u001b[0;32m/usr/local/lib/python3.7/dist-packages/pandas/io/parsers.py\u001b[0m in \u001b[0;36mread_csv\u001b[0;34m(filepath_or_buffer, sep, delimiter, header, names, index_col, usecols, squeeze, prefix, mangle_dupe_cols, dtype, engine, converters, true_values, false_values, skipinitialspace, skiprows, skipfooter, nrows, na_values, keep_default_na, na_filter, verbose, skip_blank_lines, parse_dates, infer_datetime_format, keep_date_col, date_parser, dayfirst, cache_dates, iterator, chunksize, compression, thousands, decimal, lineterminator, quotechar, quoting, doublequote, escapechar, comment, encoding, dialect, error_bad_lines, warn_bad_lines, delim_whitespace, low_memory, memory_map, float_precision)\u001b[0m\n\u001b[1;32m    686\u001b[0m     )\n\u001b[1;32m    687\u001b[0m \u001b[0;34m\u001b[0m\u001b[0m\n\u001b[0;32m--> 688\u001b[0;31m     \u001b[0;32mreturn\u001b[0m \u001b[0m_read\u001b[0m\u001b[0;34m(\u001b[0m\u001b[0mfilepath_or_buffer\u001b[0m\u001b[0;34m,\u001b[0m \u001b[0mkwds\u001b[0m\u001b[0;34m)\u001b[0m\u001b[0;34m\u001b[0m\u001b[0;34m\u001b[0m\u001b[0m\n\u001b[0m\u001b[1;32m    689\u001b[0m \u001b[0;34m\u001b[0m\u001b[0m\n\u001b[1;32m    690\u001b[0m \u001b[0;34m\u001b[0m\u001b[0m\n",
            "\u001b[0;32m/usr/local/lib/python3.7/dist-packages/pandas/io/parsers.py\u001b[0m in \u001b[0;36m_read\u001b[0;34m(filepath_or_buffer, kwds)\u001b[0m\n\u001b[1;32m    452\u001b[0m \u001b[0;34m\u001b[0m\u001b[0m\n\u001b[1;32m    453\u001b[0m     \u001b[0;31m# Create the parser.\u001b[0m\u001b[0;34m\u001b[0m\u001b[0;34m\u001b[0m\u001b[0;34m\u001b[0m\u001b[0m\n\u001b[0;32m--> 454\u001b[0;31m     \u001b[0mparser\u001b[0m \u001b[0;34m=\u001b[0m \u001b[0mTextFileReader\u001b[0m\u001b[0;34m(\u001b[0m\u001b[0mfp_or_buf\u001b[0m\u001b[0;34m,\u001b[0m \u001b[0;34m**\u001b[0m\u001b[0mkwds\u001b[0m\u001b[0;34m)\u001b[0m\u001b[0;34m\u001b[0m\u001b[0;34m\u001b[0m\u001b[0m\n\u001b[0m\u001b[1;32m    455\u001b[0m \u001b[0;34m\u001b[0m\u001b[0m\n\u001b[1;32m    456\u001b[0m     \u001b[0;32mif\u001b[0m \u001b[0mchunksize\u001b[0m \u001b[0;32mor\u001b[0m \u001b[0miterator\u001b[0m\u001b[0;34m:\u001b[0m\u001b[0;34m\u001b[0m\u001b[0;34m\u001b[0m\u001b[0m\n",
            "\u001b[0;32m/usr/local/lib/python3.7/dist-packages/pandas/io/parsers.py\u001b[0m in \u001b[0;36m__init__\u001b[0;34m(self, f, engine, **kwds)\u001b[0m\n\u001b[1;32m    946\u001b[0m             \u001b[0mself\u001b[0m\u001b[0;34m.\u001b[0m\u001b[0moptions\u001b[0m\u001b[0;34m[\u001b[0m\u001b[0;34m\"has_index_names\"\u001b[0m\u001b[0;34m]\u001b[0m \u001b[0;34m=\u001b[0m \u001b[0mkwds\u001b[0m\u001b[0;34m[\u001b[0m\u001b[0;34m\"has_index_names\"\u001b[0m\u001b[0;34m]\u001b[0m\u001b[0;34m\u001b[0m\u001b[0;34m\u001b[0m\u001b[0m\n\u001b[1;32m    947\u001b[0m \u001b[0;34m\u001b[0m\u001b[0m\n\u001b[0;32m--> 948\u001b[0;31m         \u001b[0mself\u001b[0m\u001b[0;34m.\u001b[0m\u001b[0m_make_engine\u001b[0m\u001b[0;34m(\u001b[0m\u001b[0mself\u001b[0m\u001b[0;34m.\u001b[0m\u001b[0mengine\u001b[0m\u001b[0;34m)\u001b[0m\u001b[0;34m\u001b[0m\u001b[0;34m\u001b[0m\u001b[0m\n\u001b[0m\u001b[1;32m    949\u001b[0m \u001b[0;34m\u001b[0m\u001b[0m\n\u001b[1;32m    950\u001b[0m     \u001b[0;32mdef\u001b[0m \u001b[0mclose\u001b[0m\u001b[0;34m(\u001b[0m\u001b[0mself\u001b[0m\u001b[0;34m)\u001b[0m\u001b[0;34m:\u001b[0m\u001b[0;34m\u001b[0m\u001b[0;34m\u001b[0m\u001b[0m\n",
            "\u001b[0;32m/usr/local/lib/python3.7/dist-packages/pandas/io/parsers.py\u001b[0m in \u001b[0;36m_make_engine\u001b[0;34m(self, engine)\u001b[0m\n\u001b[1;32m   1178\u001b[0m     \u001b[0;32mdef\u001b[0m \u001b[0m_make_engine\u001b[0m\u001b[0;34m(\u001b[0m\u001b[0mself\u001b[0m\u001b[0;34m,\u001b[0m \u001b[0mengine\u001b[0m\u001b[0;34m=\u001b[0m\u001b[0;34m\"c\"\u001b[0m\u001b[0;34m)\u001b[0m\u001b[0;34m:\u001b[0m\u001b[0;34m\u001b[0m\u001b[0;34m\u001b[0m\u001b[0m\n\u001b[1;32m   1179\u001b[0m         \u001b[0;32mif\u001b[0m \u001b[0mengine\u001b[0m \u001b[0;34m==\u001b[0m \u001b[0;34m\"c\"\u001b[0m\u001b[0;34m:\u001b[0m\u001b[0;34m\u001b[0m\u001b[0;34m\u001b[0m\u001b[0m\n\u001b[0;32m-> 1180\u001b[0;31m             \u001b[0mself\u001b[0m\u001b[0;34m.\u001b[0m\u001b[0m_engine\u001b[0m \u001b[0;34m=\u001b[0m \u001b[0mCParserWrapper\u001b[0m\u001b[0;34m(\u001b[0m\u001b[0mself\u001b[0m\u001b[0;34m.\u001b[0m\u001b[0mf\u001b[0m\u001b[0;34m,\u001b[0m \u001b[0;34m**\u001b[0m\u001b[0mself\u001b[0m\u001b[0;34m.\u001b[0m\u001b[0moptions\u001b[0m\u001b[0;34m)\u001b[0m\u001b[0;34m\u001b[0m\u001b[0;34m\u001b[0m\u001b[0m\n\u001b[0m\u001b[1;32m   1181\u001b[0m         \u001b[0;32melse\u001b[0m\u001b[0;34m:\u001b[0m\u001b[0;34m\u001b[0m\u001b[0;34m\u001b[0m\u001b[0m\n\u001b[1;32m   1182\u001b[0m             \u001b[0;32mif\u001b[0m \u001b[0mengine\u001b[0m \u001b[0;34m==\u001b[0m \u001b[0;34m\"python\"\u001b[0m\u001b[0;34m:\u001b[0m\u001b[0;34m\u001b[0m\u001b[0;34m\u001b[0m\u001b[0m\n",
            "\u001b[0;32m/usr/local/lib/python3.7/dist-packages/pandas/io/parsers.py\u001b[0m in \u001b[0;36m__init__\u001b[0;34m(self, src, **kwds)\u001b[0m\n\u001b[1;32m   2008\u001b[0m         \u001b[0mkwds\u001b[0m\u001b[0;34m[\u001b[0m\u001b[0;34m\"usecols\"\u001b[0m\u001b[0;34m]\u001b[0m \u001b[0;34m=\u001b[0m \u001b[0mself\u001b[0m\u001b[0;34m.\u001b[0m\u001b[0musecols\u001b[0m\u001b[0;34m\u001b[0m\u001b[0;34m\u001b[0m\u001b[0m\n\u001b[1;32m   2009\u001b[0m \u001b[0;34m\u001b[0m\u001b[0m\n\u001b[0;32m-> 2010\u001b[0;31m         \u001b[0mself\u001b[0m\u001b[0;34m.\u001b[0m\u001b[0m_reader\u001b[0m \u001b[0;34m=\u001b[0m \u001b[0mparsers\u001b[0m\u001b[0;34m.\u001b[0m\u001b[0mTextReader\u001b[0m\u001b[0;34m(\u001b[0m\u001b[0msrc\u001b[0m\u001b[0;34m,\u001b[0m \u001b[0;34m**\u001b[0m\u001b[0mkwds\u001b[0m\u001b[0;34m)\u001b[0m\u001b[0;34m\u001b[0m\u001b[0;34m\u001b[0m\u001b[0m\n\u001b[0m\u001b[1;32m   2011\u001b[0m         \u001b[0mself\u001b[0m\u001b[0;34m.\u001b[0m\u001b[0munnamed_cols\u001b[0m \u001b[0;34m=\u001b[0m \u001b[0mself\u001b[0m\u001b[0;34m.\u001b[0m\u001b[0m_reader\u001b[0m\u001b[0;34m.\u001b[0m\u001b[0munnamed_cols\u001b[0m\u001b[0;34m\u001b[0m\u001b[0;34m\u001b[0m\u001b[0m\n\u001b[1;32m   2012\u001b[0m \u001b[0;34m\u001b[0m\u001b[0m\n",
            "\u001b[0;32mpandas/_libs/parsers.pyx\u001b[0m in \u001b[0;36mpandas._libs.parsers.TextReader.__cinit__\u001b[0;34m()\u001b[0m\n",
            "\u001b[0;32mpandas/_libs/parsers.pyx\u001b[0m in \u001b[0;36mpandas._libs.parsers.TextReader._setup_parser_source\u001b[0;34m()\u001b[0m\n",
            "\u001b[0;31mFileNotFoundError\u001b[0m: [Errno 2] No such file or directory: 'winedata.data'"
          ]
        }
      ]
    },
    {
      "cell_type": "markdown",
      "metadata": {
        "id": "yj3JZGVrGPK6"
      },
      "source": [
        "# **[ 1 ] Data Cleansing**## \n",
        "#### **☠ 1.1 Checking Volume of Imcompleted Data** ==> Missing Value, Null , ..##\n",
        "#### **☠ 1.2 Checking Format & Type** ==> Same or defuse ..##\n",
        "* **Importing the data set** into the data frame\n",
        "* **Check the value in the data frame** for abnormalities by [Data Frame](https://pandas.pydata.org/pandas-docs/stable/reference/api/pandas.DataFrame.html) \n",
        "* **Check the value in the data frame** for abnormalities by [Data Fra"
      ]
    },
    {
      "cell_type": "code",
      "source": [
        "print(winedata)"
      ],
      "metadata": {
        "id": "Xvw_wDMa2j55"
      },
      "execution_count": null,
      "outputs": []
    },
    {
      "cell_type": "code",
      "source": [
        "#\n",
        "dict_keys(['data', 'target', 'feature_names', 'DESCR'])\n",
        "pandas.DataFrame.convert_dtypes\n",
        "\n",
        "df = pd.DataFrame(\n",
        "    {\n",
        "        \"a\": pd.Series([1, 2, 3], dtype=np.dtype(\"int32\")),\n",
        "    ...:         \"b\": pd.Series([\"x\", \"y\", \"z\"], dtype=np.dtype(\"O\")),\n",
        "    ...:         \"c\": pd.Series([True, False, np.nan], dtype=np.dtype(\"O\")),\n",
        "    ...:         \"d\": pd.Series([\"h\", \"i\", np.nan], dtype=np.dtype(\"O\")),\n",
        "    ...:         \"e\": pd.Series([10, np.nan, 20], dtype=np.dtype(\"float\")),\n",
        "    ...:         \"f\": pd.Series([np.nan, 100.5, 200], dtype=np.dtype(\"float\")),\n",
        "    ...:     }\n",
        "    ...: )\n"
      ],
      "metadata": {
        "id": "ba5szT9byKHJ"
      },
      "execution_count": null,
      "outputs": []
    },
    {
      "cell_type": "code",
      "execution_count": null,
      "metadata": {
        "id": "aOnWUMKKGPLl"
      },
      "outputs": [],
      "source": [
        "# Access the numerical data from the wine Bunch\n",
        "data = wine['data']\n",
        "\n",
        "data"
      ]
    },
    {
      "cell_type": "markdown",
      "source": [
        "## **[ 1 ] Data Cleansing and Wrangling**\n",
        "☠"
      ],
      "metadata": {
        "id": "Hdgqp_SaRtRD"
      }
    },
    {
      "cell_type": "code",
      "execution_count": null,
      "metadata": {
        "id": "2553Z6Z3GPMq"
      },
      "outputs": [],
      "source": [
        "csvdf = pd.read_csv('data.csv',encoding = \"ISO-8859-1\")\n",
        "csvdf.head()\n",
        "csvdf.tail()\n",
        "data.head(5)"
      ]
    },
    {
      "cell_type": "markdown",
      "metadata": {
        "id": "qfSNO-ASGPNU"
      },
      "source": [
        "## 3. Introduction to plotting data\n",
        "\n",
        "We're not going to go in depth on plotting, because that could take a full day to go through. There are plenty of online learning resources of getting the hang of matplotlib, though. \n",
        "\n",
        "We recommend:\n",
        "* [The official matplotlib pyplot tutorial](https://matplotlib.org/users/pyplot_tutorial.html)\n",
        "* [The free Cognitive Class Data Visualization Course](https://cognitiveclass.ai/courses/data-visualization-with-python)"
      ]
    },
    {
      "cell_type": "markdown",
      "metadata": {
        "id": "278alwrkGPPf"
      },
      "source": [
        "### Exercise 2 - Plot the alcohol and hue of the first 10 wines in the dataset"
      ]
    },
    {
      "cell_type": "code",
      "execution_count": null,
      "metadata": {
        "id": "GaCRz9-iGPPg"
      },
      "outputs": [],
      "source": [
        "# ===============\n",
        "# Get the first 10 rows and the 'hue' and 'alcohol' columns of the data\n",
        "plotting_data = \n",
        "# ===============\n",
        "\n",
        "# Create the Figure and Axis objects\n",
        "fig, ax = plt.subplots(1, figsize=(4.5,4))\n",
        "\n",
        "# Call the scatter() method of the axis object\n",
        "ax.scatter(plotting_data.iloc[:,0], plotting_data.iloc[:,1])\n",
        "\n",
        "# If you were running this on your computer, you could save the images\n",
        "fig.tight_layout()"
      ]
    },
    {
      "cell_type": "markdown",
      "metadata": {
        "id": "vD-iuCpMGPLe"
      },
      "source": [
        "### **Extract information to put in Data Frame**"
      ]
    },
    {
      "cell_type": "markdown",
      "metadata": {
        "id": "Np8CTooFGPPo"
      },
      "source": [
        "## 4. Introducing `scprep`\n",
        "\n",
        "`scprep` is a toolkit for analysis of single cell data. It's open source and publicly available on GitHub at https://github.com/KrishnaswamyLab/scprep. You can install this using pip with `pip install scprep`.\n",
        "\n",
        "Like most packages, `scprep` is divided into modules. You can find a full list of the available modules and documentation in the `scprep` documentation at https://scprep.readthedocs.io/."
      ]
    },
    {
      "cell_type": "markdown",
      "metadata": {
        "id": "-bnkNl6oGPPq"
      },
      "source": [
        "### Plot the alcohol and hue of all wines in the dataset *using scprep*\n",
        "\n",
        "It will be helpful for you to look at [the documentation for `scprep.plot.scatter2d()`](https://scprep.readthedocs.io/en/stable/reference.html#scprep.plot.scatter2d)."
      ]
    },
    {
      "cell_type": "code",
      "execution_count": null,
      "metadata": {
        "id": "yWcm0hT5GPPt"
      },
      "outputs": [],
      "source": [
        "import scprep"
      ]
    },
    {
      "cell_type": "code",
      "execution_count": null,
      "metadata": {
        "id": "k9al4PL0GPP0"
      },
      "outputs": [],
      "source": [
        "# =======\n",
        "# replace '...' with the correct code\n",
        "scprep.plot.scatter2d( ... , \n",
        "                     c=cultivars, # We created this when importing the wine data\n",
        "                     title='Hue and % Alcohol of all wines', # Goes at the top\n",
        "                     xlabel='Alcohol', ylabel='Hue', # Labels the x and y axis\n",
        "                     # This legend_anchor position puts the legend outside the plot\n",
        "                     legend_title='Variety', legend_anchor=(1,1), \n",
        "                     figsize=(5.5,4))\n",
        "# ======="
      ]
    },
    {
      "cell_type": "markdown",
      "metadata": {
        "id": "VV2349jMGPP_"
      },
      "source": [
        "## Identify features that differentiate two cultivars\n",
        "\n",
        "In the exercise, each pair per table will pick a pair of cultivars and identify features that differentiate them using histograms. \n",
        "\n",
        "It will be helpful for you to look at [the documentation for `scprep.plot.histogram()`](https://scprep.readthedocs.io/en/stable/reference.html#scprep.plot.histogram).\n",
        "\n",
        "As a pair:\n",
        "1. Pick two of the three cultivars to study\n",
        "2. Go through the features one by one and plot their histograms (remember you can duplicate code blocks!)\n",
        "3. Identify the feature that best differentiates your two cultivars (however you define 'best')\n",
        "4. Once you are done, share your findings with your table"
      ]
    },
    {
      "cell_type": "code",
      "execution_count": null,
      "metadata": {
        "id": "GCow8PiBGPQA"
      },
      "outputs": [],
      "source": [
        "# Pick a feature in the data\n",
        "feature = data['alcohol']\n",
        "\n",
        "# Type in your desired cultivars here\n",
        "a_group = 'Cultivar0'\n",
        "b_group = 'Cultivar1'\n",
        "\n",
        "scprep.plot.histogram([feature[cultivars == a_group], feature[cultivars == b_group]],\n",
        "                      title=feature.name, bins=20,\n",
        "                      xlabel='Feature value',ylabel='Frequency')"
      ]
    },
    {
      "cell_type": "markdown",
      "metadata": {
        "id": "xOsK1YjBGPQX"
      },
      "source": [
        "## 4. Calculating pairwise distances\n",
        "\n",
        "To calculate pairwise distances (i.e. the distance between two points), we will use the [`pdist`](https://docs.scipy.org/doc/scipy/reference/generated/scipy.spatial.distance.pdist.html) function from `scipy`. Next, we will visualize the data using a heatmap. Right now, there's no function for plotting heatmaps in `scprep`, because another package, seaborn, already has support for comprehensive plotting of heatmaps.\n",
        "\n",
        "Package descriptions:\n",
        "* [`scipy`](https://docs.scipy.org/doc/scipy/reference/index.html) - part of the same ecosystem as `numpy`. Contains many functions for scientific computing in Python including statistical computations, linear algebra, etc.\n",
        "* [`seaborn`](https://seaborn.pydata.org/) - an independent plotting package for Python that wraps around `matplotlib` to create beautiful, complex plots.\n",
        "\n"
      ]
    },
    {
      "cell_type": "markdown",
      "metadata": {
        "id": "GG9lKg0LGPQc"
      },
      "source": [
        "### Imports"
      ]
    },
    {
      "cell_type": "code",
      "execution_count": null,
      "metadata": {
        "id": "UgYC6ZKWGPQo"
      },
      "outputs": [],
      "source": [
        "# we only need a couple of functions from scipy.spatial.distance, so we'll directly import them\n",
        "from scipy.spatial.distance import pdist, squareform\n",
        "\n",
        "# it is common to import seaborn as sns\n",
        "import seaborn as sns"
      ]
    },
    {
      "cell_type": "markdown",
      "metadata": {
        "id": "HUkrPOWOGPQ-"
      },
      "source": [
        "#### Calculating pairwise distances"
      ]
    },
    {
      "cell_type": "code",
      "execution_count": null,
      "metadata": {
        "id": "BJPJA1aUGPQ_"
      },
      "outputs": [],
      "source": [
        "pairwise_distances = squareform(pdist(data))"
      ]
    },
    {
      "cell_type": "markdown",
      "metadata": {
        "id": "i0-BlRXNGPRM"
      },
      "source": [
        "#### Plotting the heatmap\n",
        "\n",
        "Here we're using the `clustermap` function to get the row and column colors, but turning off the clustering component with `row_cluster=False` and `col_cluster=False`.\n",
        "\n",
        "Documentation for `clustermap` can be found here: https://seaborn.pydata.org/generated/seaborn.clustermap.html"
      ]
    },
    {
      "cell_type": "code",
      "execution_count": null,
      "metadata": {
        "id": "RoU3um4KGPRP"
      },
      "outputs": [],
      "source": [
        "cg = sns.clustermap(pairwise_distances, \n",
        "               row_colors=plt.cm.tab10(wine['target']), \n",
        "               col_colors=plt.cm.tab10(wine['target']), \n",
        "               row_cluster=False, col_cluster=False,\n",
        "               xticklabels=[], yticklabels=[])\n",
        "\n",
        "cg.ax_heatmap.set_xlabel(r'Wine$_{i}$', fontsize=22)\n",
        "cg.ax_heatmap.set_ylabel(r'Wine$_{j}$', fontsize=22, rotation=90)"
      ]
    },
    {
      "cell_type": "markdown",
      "metadata": {
        "id": "bik16eloGPRY"
      },
      "source": [
        "### Discussion\n",
        "\n",
        "Try commenting out (adding a `#` at the beginning of the line) the line that sets `row_cluster=False` and `col_cluster=False`. This will make `clustermap` automatically cluster the data. \n",
        "\n",
        "Discuss the following questions:\n",
        "1. What do you notice about the groupings? \n",
        "2. Do you think the wine cultivars are \"Euclidean blobs*\"?\n",
        "\n",
        "*By Euclidean blob, we mean a roughly spherically shaped object in [Euclidean space](https://mathworld.wolfram.com/EuclideanSpace.html)."
      ]
    },
    {
      "cell_type": "markdown",
      "metadata": {
        "id": "KVXuvWhYGPRb"
      },
      "source": [
        "### Why feature scaling is important\n",
        "\n",
        "We'll use `sklearn`'s `StandardScaler` to z-score the features of the wine dataset. You'll see that a heatmap of the data _without_ doing this is dominated by a single high-magnitude feature, which is much less informative."
      ]
    },
    {
      "cell_type": "code",
      "execution_count": null,
      "metadata": {
        "id": "uwSpM0XSGPRd"
      },
      "outputs": [],
      "source": [
        "from sklearn.preprocessing import StandardScaler"
      ]
    },
    {
      "cell_type": "code",
      "execution_count": null,
      "metadata": {
        "id": "lYiMaPTnGPRh"
      },
      "outputs": [],
      "source": [
        "data_scaled = StandardScaler().fit_transform(data)"
      ]
    },
    {
      "cell_type": "code",
      "execution_count": null,
      "metadata": {
        "id": "pRzgHaB6GPRl"
      },
      "outputs": [],
      "source": [
        "sns.clustermap(data_scaled, xticklabels=data.columns, row_colors=plt.cm.tab10(wine['target']))"
      ]
    },
    {
      "cell_type": "markdown",
      "metadata": {
        "id": "dE-M49GzGPR7"
      },
      "source": [
        "Notice that the data clusters together (as you see by the colors on the left, which corresponds to the cultivars) quite nicely. Now let's try again without the scaling."
      ]
    },
    {
      "cell_type": "code",
      "execution_count": null,
      "metadata": {
        "id": "4LanMOysGPR8"
      },
      "outputs": [],
      "source": [
        "sns.clustermap(data, row_colors=plt.cm.tab10(wine['target']))"
      ]
    },
    {
      "cell_type": "markdown",
      "metadata": {
        "id": "ZNX-nMmKGPSD"
      },
      "source": [
        "#### Scaling before distance calculation"
      ]
    },
    {
      "cell_type": "markdown",
      "metadata": {
        "id": "3BpZkkgKGPSE"
      },
      "source": [
        "We can also take another look at our pairwise distances plot and see what scaling does to the output."
      ]
    },
    {
      "cell_type": "code",
      "execution_count": null,
      "metadata": {
        "id": "Ep_ZX7M7GPSF"
      },
      "outputs": [],
      "source": [
        "pairwise_distances_scaled = squareform(pdist(data_scaled))\n",
        "\n",
        "cg = sns.clustermap(pairwise_distances_scaled, \n",
        "               row_colors=plt.cm.tab10(wine['target']), \n",
        "               col_colors=plt.cm.tab10(wine['target']), \n",
        "               row_cluster=False, col_cluster=False,\n",
        "               xticklabels=[], yticklabels=[])\n",
        "\n",
        "cg.ax_heatmap.set_xlabel(r'Wine$_{i}$', fontsize=22)\n",
        "cg.ax_heatmap.set_ylabel(r'Wine$_{j}$', fontsize=22, rotation=90)"
      ]
    },
    {
      "cell_type": "markdown",
      "metadata": {
        "id": "6WMDxz2cGPSL"
      },
      "source": [
        "You can see that the three-cluster structure is much more clear here than when we just used the raw data, where we only really saw two obvious groups. If we allow `seaborn` to cluster the rows and columns, we'll see the structure more clearly.\n",
        "\n",
        "### Discussion\n",
        "\n",
        "Again, commenting out (adding a \"#\" at the beginning of the line) the line that sets `row_cluster=False` and `col_cluster=False`. This will make `clustermap` automatically cluster the data. \n",
        "\n",
        "Discuss the following questions:\n",
        "1. What do you notice about the groupings? \n",
        "2. Now do you think the wine cultivars are \"Euclidean blobs\"?"
      ]
    }
  ],
  "metadata": {
    "kernelspec": {
      "display_name": "Python 3",
      "language": "python",
      "name": "python3"
    },
    "language_info": {
      "codemirror_mode": {
        "name": "ipython",
        "version": 3
      },
      "file_extension": ".py",
      "mimetype": "text/x-python",
      "name": "python",
      "nbconvert_exporter": "python",
      "pygments_lexer": "ipython3",
      "version": "3.8.1"
    },
    "colab": {
      "name": "Backup_EX01-MLPerceptron.ipynb",
      "provenance": [],
      "collapsed_sections": [
        "9sBcU0duGPKk",
        "Oawrf6_9GPNL",
        "Np8CTooFGPPo",
        "-bnkNl6oGPPq",
        "VV2349jMGPP_",
        "xOsK1YjBGPQX",
        "GG9lKg0LGPQc",
        "HUkrPOWOGPQ-",
        "i0-BlRXNGPRM",
        "bik16eloGPRY",
        "KVXuvWhYGPRb",
        "ZNX-nMmKGPSD",
        "6WMDxz2cGPSL"
      ],
      "toc_visible": true,
      "include_colab_link": true
    }
  },
  "nbformat": 4,
  "nbformat_minor": 0
}